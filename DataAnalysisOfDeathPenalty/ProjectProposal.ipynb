{
 "cells": [
  {
   "cell_type": "markdown",
   "metadata": {},
   "source": [
    "# COGS 108 - Final Project Proposal"
   ]
  },
  {
   "cell_type": "markdown",
   "metadata": {},
   "source": [
    "# Names\n",
    "\n",
    "- Ka Ming Chan\n",
    "- Joe Lepe\n",
    "- Esmeralda Naranjo\n",
    "- Luke Nguyen\n",
    "- Zixi Sun"
   ]
  },
  {
   "cell_type": "markdown",
   "metadata": {},
   "source": [
    "# Group Members IDs\n",
    "\n",
    "- A13771194\n",
    "- A12272953\n",
    "- A13588423\n",
    "- A15632324\n",
    "- A13578016"
   ]
  },
  {
   "cell_type": "markdown",
   "metadata": {},
   "source": [
    "# Research Question"
   ]
  },
  {
   "cell_type": "markdown",
   "metadata": {},
   "source": [
    "What factors would affect the performance of basketball players in NBA?"
   ]
  },
  {
   "cell_type": "markdown",
   "metadata": {},
   "source": [
    "## Background and Prior Work"
   ]
  },
  {
   "cell_type": "markdown",
   "metadata": {},
   "source": [
    "Ka has prior experience researching NBA statistics, and other members are interested in the correlation between players statistics to form a winning fantasy basketball team. The data gathered can help players optimize their performance which in the long run can help grow the NBA brand. There are official statistics gathered during/after every NBA game which teams and fans use to predict future game performance throughout the season. \n",
    "\n",
    "References (include links):\n",
    "- 1) www.cbssports.com/fantasy/basketball/stats/ (A list of statistics of performance about point guards, guards, etc.)\n",
    "- 2) www.basketball-reference.com/leagues/NBA_2019_totals.html (A list of player stats of NBA)\n",
    "- 3) www.ncbi.nlm.nih.gov/pmc/articles/PMC3796832/pdf/jhk-37-145.pdf (A reserach paper about indicators determining sports sports performance in the NBA)"
   ]
  },
  {
   "cell_type": "markdown",
   "metadata": {},
   "source": [
    "# Hypothesis\n"
   ]
  },
  {
   "cell_type": "markdown",
   "metadata": {},
   "source": [
    "There exists a correlation between the statistics and the performance of the NBA players based on the factors of injury, fatigue, opposing team, travel, team chemistry, and etc."
   ]
  },
  {
   "cell_type": "markdown",
   "metadata": {},
   "source": [
    "# Data"
   ]
  },
  {
   "cell_type": "markdown",
   "metadata": {},
   "source": [
    "There are plenty of public datasets across the web that we can access including sources such as CBS, basketball-references, and ESPN. We can access statistics through these sources which would give us  points, assists, rebounds, steals, shooting percentages, etc...  and how they are distributed across different positions(point guard, shooting guard, center, power forward, guard). From this we can see how other variables such as minutes played, consecutive games played, age, and travel time can affect game performance. We’ll be using multiple seasons to have a large sample. To store and use the data we will use dataframe and pandas to utilize the already gathered data."
   ]
  },
  {
   "cell_type": "markdown",
   "metadata": {},
   "source": [
    "# Ethics & Privacy"
   ]
  },
  {
   "cell_type": "markdown",
   "metadata": {},
   "source": [
    "We, as public users of this public online and physical data, have the permission to use the data for this research purpose as the NBA statistics datasets are public online and available to the public.\n",
    "\n",
    "The unavoidable aspect of human error, specifically the referees, can introduce biases to the  players' performance data collected.\n",
    "\n",
    "To maintain the anonymity of Fantasy League players and maintaining their predictions safe from misuse of gambling. We intend to utilize the data we collect from legal websites and the legal terms in which the Fantasy NBA League runs. \n",
    "\n",
    "We, as a group, intend to only use data collected from games following player performance and not interfering with actual, real-life, player performance factors. "
   ]
  },
  {
   "cell_type": "markdown",
   "metadata": {},
   "source": [
    "# Team Expectations "
   ]
  },
  {
   "cell_type": "markdown",
   "metadata": {},
   "source": [
    "* To each provide support and contribute to resources based on personal strengths (academic and personal). \n",
    "* To collectively attend and be present at meetings and discussions based on group availability; punctually and with assigned tasks completed.\n",
    "* For all group members to encourage communication among themselves via ensurance of efficient exchanges of ideas, concerns, and general project contributions. "
   ]
  },
  {
   "cell_type": "markdown",
   "metadata": {},
   "source": [
    "# Project Timeline Proposal"
   ]
  },
  {
   "cell_type": "markdown",
   "metadata": {},
   "source": [
    "| Meeting Date  | Meeting Time| Completed Before Meeting  | Discuss at Meeting |\n",
    "|---|---|---|---|\n",
    "| 1/16  |  6 PM | Read & Think about COGS 108 expectations; brainstorm topics/questions  | Determine best form of communication; Discuss and decide on final project topic; discuss hypothesis; begin background research | \n",
    "| 1/22  |  2 PM |  Do background research on topic | Discuss ideal dataset(s) and ethics; draft project proposal | \n",
    "| 1/29  | 2 PM  | Edit, finalize, and submit proposal; Search for datasets; Find various data sources  | Discuss Wrangling and possible analytical approaches; Determine viability of projects; Assign group members to lead each specific part   |\n",
    "| 2/4  | 2 PM  | Import and clean data into form (Esmeralda, Joe, Luke); Explore data and wrangle data so all data can be compared (Ka, Zixi) | Review/Edit wrangling/EDA; Discuss Analysis Plan   |\n",
    "| 2/11  | 2 PM  | Finalize wrangling and Visualize/communicate connection between metrics and player performance (Ka, Zixi); Begin Analysis and plot correlations of various statistics(Esmeralda, Joe, Luke) | Discuss/edit Analysis; Complete project check-in |\n",
    "| 3/4  | 2 PM  | Complete analysis (Ka, Zixi); Draft results/conclusion/discussion (Esmeralda, Joe, Luke)| Discuss/edit full project |\n",
    "| 3/18  | Before 11:59 PM  | NA | Turn in Final Project & Group Project Surveys |"
   ]
  }
 ],
 "metadata": {
  "kernelspec": {
   "display_name": "Python 3",
   "language": "python",
   "name": "python3"
  },
  "language_info": {
   "codemirror_mode": {
    "name": "ipython",
    "version": 3
   },
   "file_extension": ".py",
   "mimetype": "text/x-python",
   "name": "python",
   "nbconvert_exporter": "python",
   "pygments_lexer": "ipython3",
   "version": "3.6.7"
  }
 },
 "nbformat": 4,
 "nbformat_minor": 2
}
