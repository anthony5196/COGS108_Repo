{
 "cells": [
  {
   "cell_type": "markdown",
   "metadata": {},
   "source": [
    "# COGS 108 Final Project Check-In"
   ]
  },
  {
   "cell_type": "markdown",
   "metadata": {},
   "source": [
    "# Names\n",
    "\n",
    "- Joe Lepe\n",
    "- Esmeralda Naranjo\n",
    "- Luke Nguyen \n",
    "- Ka Ming Chan\n",
    "- Zixi Sun\n"
   ]
  },
  {
   "cell_type": "markdown",
   "metadata": {},
   "source": [
    "# Group Members IDs\n",
    "\n",
    "- A12272953\n",
    "- A13588423\n",
    "- A15632324\n",
    "- A13771194\n",
    "- A13578016\n"
   ]
  },
  {
   "cell_type": "markdown",
   "metadata": {},
   "source": [
    "# Accomplishments"
   ]
  },
  {
   "cell_type": "markdown",
   "metadata": {},
   "source": [
    "*Briefly explain what your group has accomplished up to this point on your final project.*\n",
    "\n",
    "Up to this point, our group has accomplished to set up a steady schedule and goal of when we will all commit to contribute to the final project. Our meetings have been respectful for all to share their opinions, and effective in terms of coming to agreements and dividing the work equally among us; in the case of switching our topic from the initial research topic in the project proposal to our current topic, we efficiently asked for everyone’s opinions regarding the context of our research and what we hope to extract from data collected. As a group, we discussed which ideas seem to be the most interesting and practical for us collectively, upon learning from the proposal feedback that our topic was too general and lacked precision. Overall, our group has worked to set up an environment for friendly communication in which teammates are helpful for each other, willing to commit, and respected for sharing each one’s knowledge from different fields. We have established effective communication and planning regarding meetings and individual responsibilities and assignment of tasks."
   ]
  },
  {
   "cell_type": "markdown",
   "metadata": {},
   "source": [
    "# Going Well"
   ]
  },
  {
   "cell_type": "markdown",
   "metadata": {},
   "source": [
    "*Briefly explain what has gone well so far in completing your group project.*\n",
    "\n",
    "Thus far, we have been able to choose a topic that seems interesting and contains abundant information from various sources and groups of data to the group. We have been progressing in our research relating to the topic, we have found similar models of what we’d like to build upon with our question. \n",
    "We have also discussed the possibility of relating certain factors like state or specific crime influence on the number of cases involving the sentencing of the death penalty, leading to a more specific analysis of a particular occurance that may not have been explored as in-depth in the past. \n",
    "Our communication is up-to-date and we are aware of one another’s strengths and weaknesses in order to delegate tasks and contribute successfully to the project. \n"
   ]
  },
  {
   "cell_type": "markdown",
   "metadata": {},
   "source": [
    "# Struggles"
   ]
  },
  {
   "cell_type": "markdown",
   "metadata": {},
   "source": [
    "*Breifly explain what snags or issues your group has faced.*\n",
    "\n",
    "We need to organize our data in a more uniform and coherent manner so that we can effectively communicate our findings more precisely. \n",
    "Upon choosing the appropriate data to use, we will then progress by narrowing down our decision (regarding the specific questions to ask after finding expected and unexpected results) and exclude unnecessary and unrelated data to cause less noise to our model.\n",
    "We have to produce a functioning prototype, via code and visual representations before we focus on premature optimization on our model in question.\n",
    "We must decide the scope of our project which means whether we should include only the cases in the various American States in the U.S. or if we want to take a more holistic and worldwide approach to our question.\n"
   ]
  },
  {
   "cell_type": "markdown",
   "metadata": {},
   "source": [
    "# Plan Forward"
   ]
  },
  {
   "cell_type": "markdown",
   "metadata": {},
   "source": [
    "*Explain what your plan is for successful completion of your COGS 108 project. If any issues have arisen, address your plan for addressing these issues throughout the rest of the quarter.*\n",
    "\n",
    "Moving forward, we will continue to foster and maintain the work ethic we have shown up to this point. In order to produce the best possible project with the most rewarding experience we will need to be open to new ideas and be willing to put in that extra effort in order to make use of the knowledge and data we are trying to obtain and communicate. We will need to narrow the scope of our initial question in order to find meaningful data that has real life applications, in this case, data collected from the death penalty. We have been meeting as a group periodically, but as we increase the number of times we meet each week, we will be more able to accomplish our goals and communicate our findings by discovering and fixing problems with our prototypes sooner. Moving forward, we will be increasing the amount of times we meet as a group, lessen the scope of our question, and begin to make initial prototypes that effectively demonstrate and execute the data we are interested in researching for our project. "
   ]
  }
 ],
 "metadata": {
  "kernelspec": {
   "display_name": "Python 3",
   "language": "python",
   "name": "python3"
  },
  "language_info": {
   "codemirror_mode": {
    "name": "ipython",
    "version": 3
   },
   "file_extension": ".py",
   "mimetype": "text/x-python",
   "name": "python",
   "nbconvert_exporter": "python",
   "pygments_lexer": "ipython3",
   "version": "3.6.7"
  }
 },
 "nbformat": 4,
 "nbformat_minor": 2
}
